{
 "cells": [
  {
   "cell_type": "code",
   "execution_count": 10,
   "metadata": {},
   "outputs": [
    {
     "name": "stdout",
     "output_type": "stream",
     "text": [
      "2.32.3\n"
     ]
    },
    {
     "name": "stderr",
     "output_type": "stream",
     "text": [
      "/Users/ayasamadzelkava/miniforge3/envs/tda/lib/python3.9/site-packages/requests/__init__.py:86: RequestsDependencyWarning: Unable to find acceptable character detection dependency (chardet or charset_normalizer).\n",
      "  raise Exception(\"You need either charset_normalizer or chardet installed\")\n"
     ]
    }
   ],
   "source": [
    "import requests\n",
    "print(requests.__version__)"
   ]
  },
  {
   "cell_type": "code",
   "execution_count": 4,
   "metadata": {},
   "outputs": [
    {
     "name": "stdout",
     "output_type": "stream",
     "text": [
      "Collecting openai\n",
      "  Downloading openai-1.47.1-py3-none-any.whl.metadata (24 kB)\n",
      "Requirement already satisfied: anyio<5,>=3.5.0 in /Users/ayasamadzelkava/miniforge3/envs/tda/lib/python3.9/site-packages (from openai) (4.2.0)\n",
      "Collecting distro<2,>=1.7.0 (from openai)\n",
      "  Downloading distro-1.9.0-py3-none-any.whl.metadata (6.8 kB)\n",
      "Collecting httpx<1,>=0.23.0 (from openai)\n",
      "  Downloading httpx-0.27.2-py3-none-any.whl.metadata (7.1 kB)\n",
      "Collecting jiter<1,>=0.4.0 (from openai)\n",
      "  Downloading jiter-0.5.0-cp39-cp39-macosx_11_0_arm64.whl.metadata (3.6 kB)\n",
      "Collecting pydantic<3,>=1.9.0 (from openai)\n",
      "  Downloading pydantic-2.9.2-py3-none-any.whl.metadata (149 kB)\n",
      "\u001b[2K     \u001b[90m━━━━━━━━━━━━━━━━━━━━━━━━━━━━━━━━━━━━━━━\u001b[0m \u001b[32m149.4/149.4 kB\u001b[0m \u001b[31m3.4 MB/s\u001b[0m eta \u001b[36m0:00:00\u001b[0ma \u001b[36m0:00:01\u001b[0m\n",
      "\u001b[?25hRequirement already satisfied: sniffio in /Users/ayasamadzelkava/miniforge3/envs/tda/lib/python3.9/site-packages (from openai) (1.3.0)\n",
      "Requirement already satisfied: tqdm>4 in /Users/ayasamadzelkava/miniforge3/envs/tda/lib/python3.9/site-packages (from openai) (4.65.0)\n",
      "Collecting typing-extensions<5,>=4.11 (from openai)\n",
      "  Downloading typing_extensions-4.12.2-py3-none-any.whl.metadata (3.0 kB)\n",
      "Requirement already satisfied: idna>=2.8 in /Users/ayasamadzelkava/miniforge3/envs/tda/lib/python3.9/site-packages (from anyio<5,>=3.5.0->openai) (3.4)\n",
      "Requirement already satisfied: exceptiongroup>=1.0.2 in /Users/ayasamadzelkava/miniforge3/envs/tda/lib/python3.9/site-packages (from anyio<5,>=3.5.0->openai) (1.2.0)\n",
      "Requirement already satisfied: certifi in /Users/ayasamadzelkava/miniforge3/envs/tda/lib/python3.9/site-packages (from httpx<1,>=0.23.0->openai) (2024.2.2)\n",
      "Collecting httpcore==1.* (from httpx<1,>=0.23.0->openai)\n",
      "  Downloading httpcore-1.0.5-py3-none-any.whl.metadata (20 kB)\n",
      "Collecting h11<0.15,>=0.13 (from httpcore==1.*->httpx<1,>=0.23.0->openai)\n",
      "  Downloading h11-0.14.0-py3-none-any.whl.metadata (8.2 kB)\n",
      "Collecting annotated-types>=0.6.0 (from pydantic<3,>=1.9.0->openai)\n",
      "  Downloading annotated_types-0.7.0-py3-none-any.whl.metadata (15 kB)\n",
      "Collecting pydantic-core==2.23.4 (from pydantic<3,>=1.9.0->openai)\n",
      "  Downloading pydantic_core-2.23.4-cp39-cp39-macosx_11_0_arm64.whl.metadata (6.6 kB)\n",
      "Downloading openai-1.47.1-py3-none-any.whl (375 kB)\n",
      "\u001b[2K   \u001b[90m━━━━━━━━━━━━━━━━━━━━━━━━━━━━━━━━━━━━━━━━\u001b[0m \u001b[32m375.6/375.6 kB\u001b[0m \u001b[31m8.5 MB/s\u001b[0m eta \u001b[36m0:00:00\u001b[0m:00:01\u001b[0m\n",
      "\u001b[?25hDownloading distro-1.9.0-py3-none-any.whl (20 kB)\n",
      "Downloading httpx-0.27.2-py3-none-any.whl (76 kB)\n",
      "\u001b[2K   \u001b[90m━━━━━━━━━━━━━━━━━━━━━━━━━━━━━━━━━━━━━━━━\u001b[0m \u001b[32m76.4/76.4 kB\u001b[0m \u001b[31m7.0 MB/s\u001b[0m eta \u001b[36m0:00:00\u001b[0m\n",
      "\u001b[?25hDownloading httpcore-1.0.5-py3-none-any.whl (77 kB)\n",
      "\u001b[2K   \u001b[90m━━━━━━━━━━━━━━━━━━━━━━━━━━━━━━━━━━━━━━━━\u001b[0m \u001b[32m77.9/77.9 kB\u001b[0m \u001b[31m6.5 MB/s\u001b[0m eta \u001b[36m0:00:00\u001b[0m\n",
      "\u001b[?25hDownloading jiter-0.5.0-cp39-cp39-macosx_11_0_arm64.whl (283 kB)\n",
      "\u001b[2K   \u001b[90m━━━━━━━━━━━━━━━━━━━━━━━━━━━━━━━━━━━━━━━━\u001b[0m \u001b[32m283.4/283.4 kB\u001b[0m \u001b[31m15.5 MB/s\u001b[0m eta \u001b[36m0:00:00\u001b[0m\n",
      "\u001b[?25hDownloading pydantic-2.9.2-py3-none-any.whl (434 kB)\n",
      "\u001b[2K   \u001b[90m━━━━━━━━━━━━━━━━━━━━━━━━━━━━━━━━━━━━━━━━\u001b[0m \u001b[32m434.9/434.9 kB\u001b[0m \u001b[31m14.8 MB/s\u001b[0m eta \u001b[36m0:00:00\u001b[0m\n",
      "\u001b[?25hDownloading pydantic_core-2.23.4-cp39-cp39-macosx_11_0_arm64.whl (1.7 MB)\n",
      "\u001b[2K   \u001b[90m━━━━━━━━━━━━━━━━━━━━━━━━━━━━━━━━━━━━━━━━\u001b[0m \u001b[32m1.7/1.7 MB\u001b[0m \u001b[31m27.3 MB/s\u001b[0m eta \u001b[36m0:00:00\u001b[0ma \u001b[36m0:00:01\u001b[0m\n",
      "\u001b[?25hDownloading typing_extensions-4.12.2-py3-none-any.whl (37 kB)\n",
      "Downloading annotated_types-0.7.0-py3-none-any.whl (13 kB)\n",
      "Downloading h11-0.14.0-py3-none-any.whl (58 kB)\n",
      "\u001b[2K   \u001b[90m━━━━━━━━━━━━━━━━━━━━━━━━━━━━━━━━━━━━━━━━\u001b[0m \u001b[32m58.3/58.3 kB\u001b[0m \u001b[31m7.3 MB/s\u001b[0m eta \u001b[36m0:00:00\u001b[0m\n",
      "\u001b[?25hInstalling collected packages: typing-extensions, jiter, h11, distro, annotated-types, pydantic-core, httpcore, pydantic, httpx, openai\n",
      "  Attempting uninstall: typing-extensions\n",
      "    Found existing installation: typing_extensions 4.9.0\n",
      "    Uninstalling typing_extensions-4.9.0:\n",
      "      Successfully uninstalled typing_extensions-4.9.0\n",
      "Successfully installed annotated-types-0.7.0 distro-1.9.0 h11-0.14.0 httpcore-1.0.5 httpx-0.27.2 jiter-0.5.0 openai-1.47.1 pydantic-2.9.2 pydantic-core-2.23.4 typing-extensions-4.12.2\n"
     ]
    }
   ],
   "source": [
    "!pip install openai"
   ]
  },
  {
   "cell_type": "code",
   "execution_count": 11,
   "metadata": {},
   "outputs": [
    {
     "name": "stdout",
     "output_type": "stream",
     "text": [
      "{'header': {'type': 'esummary', 'version': '0.3'}, 'result': {'uids': ['5699'], '5699': {'uid': '5699', 'name': 'PSMB10', 'description': 'proteasome 20S subunit beta 10', 'status': '', 'currentid': '', 'chromosome': '16', 'geneticsource': 'genomic', 'maplocation': '16q22.1', 'otheraliases': 'IMD121, LMP10, MECL1, PRAAS5, beta2i', 'otherdesignations': 'proteasome subunit beta type-10|low molecular mass protein 10|macropain subunit MECl-1|multicatalytic endopeptidase complex subunit MECl-1|proteasome (prosome, macropain) subunit, beta type, 10|proteasome MECl-1|proteasome catalytic subunit 2i|proteasome subunit MECL1|proteasome subunit beta 10|proteasome subunit beta 7i|proteasome subunit beta-2i|proteasome subunit beta2i', 'nomenclaturesymbol': 'PSMB10', 'nomenclaturename': 'proteasome 20S subunit beta 10', 'nomenclaturestatus': 'Official', 'mim': ['176847'], 'genomicinfo': [{'chrloc': '16', 'chraccver': 'NC_000016.10', 'chrstart': 67936849, 'chrstop': 67934505, 'exoncount': 8}], 'geneweight': 2552, 'summary': 'The proteasome is a multicatalytic proteinase complex with a highly ordered ring-shaped 20S core structure. The core structure is composed of 4 rings of 28 non-identical subunits; 2 rings are composed of 7 alpha subunits and 2 rings are composed of 7 beta subunits. Proteasomes are distributed throughout eukaryotic cells at a high concentration and cleave peptides in an ATP/ubiquitin-dependent process in a non-lysosomal pathway. An essential function of a modified proteasome, the immunoproteasome, is the processing of class I MHC peptides. This gene encodes a member of the proteasome B-type family, also known as the T1B family, that is a 20S core beta subunit. Proteolytic processing is required to generate a mature subunit. Expression of this gene is induced by gamma interferon, and this gene product replaces catalytic subunit 2 (proteasome beta 7 subunit) in the immunoproteasome. [provided by RefSeq, Jul 2008]', 'chrsort': '16', 'chrstart': 67934505, 'organism': {'scientificname': 'Homo sapiens', 'commonname': 'human', 'taxid': 9606}, 'locationhist': [{'annotationrelease': 'RS_2024_08', 'assemblyaccver': 'GCF_000001405.40', 'chraccver': 'NC_000016.10', 'chrstart': 67936849, 'chrstop': 67934505}, {'annotationrelease': 'RS_2024_08', 'assemblyaccver': 'GCF_009914755.1', 'chraccver': 'NC_060940.1', 'chrstart': 73732623, 'chrstop': 73730279}, {'annotationrelease': 'RS_2023_10', 'assemblyaccver': 'GCF_000001405.40', 'chraccver': 'NC_000016.10', 'chrstart': 67936849, 'chrstop': 67934505}, {'annotationrelease': 'RS_2023_10', 'assemblyaccver': 'GCF_009914755.1', 'chraccver': 'NC_060940.1', 'chrstart': 73732623, 'chrstop': 73730279}, {'annotationrelease': 'RS_2023_03', 'assemblyaccver': 'GCF_000001405.40', 'chraccver': 'NC_000016.10', 'chrstart': 67936849, 'chrstop': 67934505}, {'annotationrelease': 'RS_2023_03', 'assemblyaccver': 'GCF_009914755.1', 'chraccver': 'NC_060940.1', 'chrstart': 73732623, 'chrstop': 73730279}, {'annotationrelease': '110', 'assemblyaccver': 'GCF_000001405.40', 'chraccver': 'NC_000016.10', 'chrstart': 67936849, 'chrstop': 67934505}, {'annotationrelease': '110', 'assemblyaccver': 'GCF_009914755.1', 'chraccver': 'NC_060940.1', 'chrstart': 73732623, 'chrstop': 73730279}, {'annotationrelease': '109.20211119', 'assemblyaccver': 'GCF_000001405.39', 'chraccver': 'NC_000016.10', 'chrstart': 67936849, 'chrstop': 67934505}, {'annotationrelease': '109.20210514', 'assemblyaccver': 'GCF_000001405.39', 'chraccver': 'NC_000016.10', 'chrstart': 67936849, 'chrstop': 67934505}, {'annotationrelease': '109.20210226', 'assemblyaccver': 'GCF_000001405.39', 'chraccver': 'NC_000016.10', 'chrstart': 67936849, 'chrstop': 67934505}, {'annotationrelease': '109.20201120', 'assemblyaccver': 'GCF_000001405.39', 'chraccver': 'NC_000016.10', 'chrstart': 67936849, 'chrstop': 67934505}, {'annotationrelease': '109.20200815', 'assemblyaccver': 'GCF_000001405.39', 'chraccver': 'NC_000016.10', 'chrstart': 67936849, 'chrstop': 67934505}, {'annotationrelease': '109.20200522', 'assemblyaccver': 'GCF_000001405.39', 'chraccver': 'NC_000016.10', 'chrstart': 67936849, 'chrstop': 67934505}, {'annotationrelease': '109.20200228', 'assemblyaccver': 'GCF_000001405.39', 'chraccver': 'NC_000016.10', 'chrstart': 67936849, 'chrstop': 67934505}, {'annotationrelease': '109.20191205', 'assemblyaccver': 'GCF_000001405.39', 'chraccver': 'NC_000016.10', 'chrstart': 67936849, 'chrstop': 67934505}, {'annotationrelease': 'RS_2024_09', 'assemblyaccver': 'GCF_000001405.25', 'chraccver': 'NC_000016.9', 'chrstart': 67970752, 'chrstop': 67968408}, {'annotationrelease': '105.20220307', 'assemblyaccver': 'GCF_000001405.25', 'chraccver': 'NC_000016.9', 'chrstart': 67970752, 'chrstop': 67968408}, {'annotationrelease': '105.20201022', 'assemblyaccver': 'GCF_000001405.25', 'chraccver': 'NC_000016.9', 'chrstart': 67970752, 'chrstop': 67968408}, {'annotationrelease': '105', 'assemblyaccver': 'GCF_000001405.25', 'chraccver': 'NC_000016.9', 'chrstart': 67970779, 'chrstop': 67968406}, {'annotationrelease': '105', 'assemblyaccver': 'GCF_000002125.1', 'chraccver': 'AC_000148.1', 'chrstart': 53844349, 'chrstop': 53841976}, {'annotationrelease': '105', 'assemblyaccver': 'GCF_000306695.2', 'chraccver': 'NC_018927.2', 'chrstart': 69378843, 'chrstop': 69376470}]}}}\n"
     ]
    }
   ],
   "source": [
    "import requests\n",
    "\n",
    "# Example API request to fetch gene information\n",
    "url = \"https://eutils.ncbi.nlm.nih.gov/entrez/eutils/esummary.fcgi\"\n",
    "params = {\n",
    "    \"db\": \"gene\",\n",
    "    \"id\": \"5699\",  # Example Gene ID\n",
    "    \"retmode\": \"json\"\n",
    "}\n",
    "\n",
    "response = requests.get(url, params=params)\n",
    "gene_data = response.json()\n",
    "\n",
    "print(gene_data)"
   ]
  }
 ],
 "metadata": {
  "kernelspec": {
   "display_name": "Python 3",
   "language": "python",
   "name": "python3"
  },
  "language_info": {
   "codemirror_mode": {
    "name": "ipython",
    "version": 3
   },
   "file_extension": ".py",
   "mimetype": "text/x-python",
   "name": "python",
   "nbconvert_exporter": "python",
   "pygments_lexer": "ipython3",
   "version": "3.9.18"
  }
 },
 "nbformat": 4,
 "nbformat_minor": 2
}
